{
 "cells": [
  {
   "cell_type": "code",
   "execution_count": 1,
   "metadata": {},
   "outputs": [
    {
     "name": "stderr",
     "output_type": "stream",
     "text": [
      "C:\\Users\\Laurens\\Anaconda3\\lib\\site-packages\\h5py\\__init__.py:34: FutureWarning: Conversion of the second argument of issubdtype from `float` to `np.floating` is deprecated. In future, it will be treated as `np.float64 == np.dtype(float).type`.\n",
      "  from ._conv import register_converters as _register_converters\n",
      "Using TensorFlow backend.\n"
     ]
    }
   ],
   "source": [
    "import pandas as pd\n",
    "import matplotlib.pyplot as plt\n",
    "%matplotlib inline\n",
    "plt.style.use('seaborn')\n",
    "from scipy.stats import norm, skew\n",
    "import numpy as np\n",
    "import seaborn as sns\n",
    "\n",
    "import keras\n",
    "import os, shutil"
   ]
  },
  {
   "cell_type": "markdown",
   "metadata": {},
   "source": [
    "## Convolutional Networks"
   ]
  },
  {
   "cell_type": "markdown",
   "metadata": {},
   "source": [
    "## loading data"
   ]
  },
  {
   "cell_type": "code",
   "execution_count": 2,
   "metadata": {
    "collapsed": true
   },
   "outputs": [],
   "source": [
    "\n",
    "\n",
    "original_dataset_loc = '/Users/Laurens/Documents/IE-BIGDATA/Term 3/Machine Learning III/cats_dogs_big'\n",
    "\n",
    "base_dir = '/Users/Laurens/Documents/IE-BIGDATA/Term 3/Machine Learning III/cats_dogs_small'\n",
    "#os.mkdir(base_dir)"
   ]
  },
  {
   "cell_type": "code",
   "execution_count": 3,
   "metadata": {
    "collapsed": true
   },
   "outputs": [],
   "source": [
    "#making directories for smaller set\n",
    "train_dir = os.path.join(base_dir, 'train')\n",
    "#os.mkdir(train_dir)\n",
    "validation_dir = os.path.join(base_dir, 'val')\n",
    "#os.mkdir(validation_dir)\n",
    "test_dir = os.path.join(base_dir, 'test')\n",
    "#os.mkdir(test_dir)\n",
    "\n",
    "\n",
    "train_cats_dir = os.path.join(train_dir, 'cats')\n",
    "#os.mkdir(train_cats_dir)\n",
    "\n",
    "train_dogs_dir = os.path.join(train_dir, 'dogs')\n",
    "#os.mkdir(train_dogs_dir)\n",
    "\n",
    "val_cats_dir = os.path.join(validation_dir, 'cats')\n",
    "#os.mkdir(val_cats_dir)\n",
    "\n",
    "val_dogs_dir = os.path.join(validation_dir, 'dogs')\n",
    "#os.mkdir(val_dogs_dir)\n",
    "\n",
    "test_cats_dir = os.path.join(test_dir, 'cats')\n",
    "#os.mkdir(test_cats_dir)\n",
    "\n",
    "test_dogs_dir = os.path.join(test_dir, 'dogs')\n",
    "#os.mkdir(test_dogs_dir)"
   ]
  },
  {
   "cell_type": "code",
   "execution_count": 17,
   "metadata": {
    "collapsed": true
   },
   "outputs": [],
   "source": [
    "from keras import layers, models\n",
    "\n",
    "model = models.Sequential()\n",
    "\n",
    "model.add(layers.Conv2D(32, (3,3), activation = 'relu', \n",
    "                 input_shape = (150, 150, 3)))\n",
    "model.add(layers.MaxPooling2D((2,2)))\n",
    "model.add(layers.Conv2D(64, (3,3), activation = 'relu'))\n",
    "model.add(layers.MaxPooling2D((2,2)))\n",
    "model.add(layers.Conv2D(128, (3,3), activation = 'relu'))\n",
    "model.add(layers.MaxPooling2D((2,2)))\n",
    "model.add(layers.Conv2D(128, (3,3), activation = 'relu'))\n",
    "model.add(layers.MaxPooling2D((2,2)))\n",
    "model.add(layers.Flatten())\n",
    "model.add(layers.Dense(512, activation = 'relu'))\n",
    "model.add(layers.Dense(1, activation = 'sigmoid'))"
   ]
  },
  {
   "cell_type": "code",
   "execution_count": 18,
   "metadata": {},
   "outputs": [
    {
     "name": "stdout",
     "output_type": "stream",
     "text": [
      "_________________________________________________________________\n",
      "Layer (type)                 Output Shape              Param #   \n",
      "=================================================================\n",
      "conv2d_7 (Conv2D)            (None, 148, 148, 32)      896       \n",
      "_________________________________________________________________\n",
      "max_pooling2d_6 (MaxPooling2 (None, 74, 74, 32)        0         \n",
      "_________________________________________________________________\n",
      "conv2d_8 (Conv2D)            (None, 72, 72, 64)        18496     \n",
      "_________________________________________________________________\n",
      "max_pooling2d_7 (MaxPooling2 (None, 36, 36, 64)        0         \n",
      "_________________________________________________________________\n",
      "conv2d_9 (Conv2D)            (None, 34, 34, 128)       73856     \n",
      "_________________________________________________________________\n",
      "max_pooling2d_8 (MaxPooling2 (None, 17, 17, 128)       0         \n",
      "_________________________________________________________________\n",
      "conv2d_10 (Conv2D)           (None, 15, 15, 128)       147584    \n",
      "_________________________________________________________________\n",
      "max_pooling2d_9 (MaxPooling2 (None, 7, 7, 128)         0         \n",
      "_________________________________________________________________\n",
      "flatten_2 (Flatten)          (None, 6272)              0         \n",
      "_________________________________________________________________\n",
      "dense_3 (Dense)              (None, 512)               3211776   \n",
      "_________________________________________________________________\n",
      "dense_4 (Dense)              (None, 1)                 513       \n",
      "=================================================================\n",
      "Total params: 3,453,121\n",
      "Trainable params: 3,453,121\n",
      "Non-trainable params: 0\n",
      "_________________________________________________________________\n"
     ]
    }
   ],
   "source": [
    "model.summary()"
   ]
  },
  {
   "cell_type": "code",
   "execution_count": 19,
   "metadata": {
    "collapsed": true
   },
   "outputs": [],
   "source": [
    "#compiling\n",
    "from keras import optimizers\n",
    "\n",
    "model.compile(loss='binary_crossentropy', \n",
    "              optimizer = optimizers.RMSprop(lr=1e-4),\n",
    "             metrics = ['acc'])"
   ]
  },
  {
   "cell_type": "markdown",
   "metadata": {},
   "source": [
    "## preprocessing images"
   ]
  },
  {
   "cell_type": "code",
   "execution_count": 21,
   "metadata": {},
   "outputs": [
    {
     "name": "stdout",
     "output_type": "stream",
     "text": [
      "Found 2002 images belonging to 2 classes.\n",
      "Found 1000 images belonging to 2 classes.\n"
     ]
    }
   ],
   "source": [
    "from keras.preprocessing.image import ImageDataGenerator\n",
    "\n",
    "train_datagen = ImageDataGenerator(rescale = 1./255)\n",
    "test_datagen = ImageDataGenerator(rescale = 1./255)\n",
    "\n",
    "train_generator = train_datagen.flow_from_directory(train_dir,\n",
    "                                                   target_size=(150,150),\n",
    "                                                   batch_size = 20,\n",
    "                                                   class_mode = 'binary')\n",
    "\n",
    "validation_generator = test_datagen.flow_from_directory(validation_dir,\n",
    "                                                       target_size=(150,150),\n",
    "                                                       batch_size=20,\n",
    "                                                       class_mode='binary')"
   ]
  },
  {
   "cell_type": "code",
   "execution_count": 25,
   "metadata": {},
   "outputs": [
    {
     "name": "stdout",
     "output_type": "stream",
     "text": [
      "data batch shape: (20, 150, 150, 3)\n",
      "labels batch shape: (20,)\n"
     ]
    }
   ],
   "source": [
    "for data_batch, labels_batch in train_generator:\n",
    "    print(\"data batch shape:\", data_batch.shape)\n",
    "    print('labels batch shape:', labels_batch.shape)\n",
    "    break"
   ]
  },
  {
   "cell_type": "code",
   "execution_count": 26,
   "metadata": {
    "scrolled": true
   },
   "outputs": [
    {
     "name": "stdout",
     "output_type": "stream",
     "text": [
      "Epoch 1/30\n",
      "100/100 [==============================] - 127s 1s/step - loss: 0.6897 - acc: 0.5310 - val_loss: 0.6825 - val_acc: 0.5160\n",
      "Epoch 2/30\n",
      "100/100 [==============================] - 115s 1s/step - loss: 0.6700 - acc: 0.5936 - val_loss: 0.6512 - val_acc: 0.6320\n",
      "Epoch 3/30\n",
      "100/100 [==============================] - 115s 1s/step - loss: 0.6287 - acc: 0.6530 - val_loss: 0.6350 - val_acc: 0.6210\n",
      "Epoch 4/30\n",
      "100/100 [==============================] - 126s 1s/step - loss: 0.5917 - acc: 0.6890 - val_loss: 0.5957 - val_acc: 0.6760\n",
      "Epoch 5/30\n",
      "100/100 [==============================] - 117s 1s/step - loss: 0.5584 - acc: 0.7025 - val_loss: 0.5841 - val_acc: 0.6820\n",
      "Epoch 6/30\n",
      "100/100 [==============================] - 116s 1s/step - loss: 0.5197 - acc: 0.7415 - val_loss: 0.5615 - val_acc: 0.6990\n",
      "Epoch 7/30\n",
      "100/100 [==============================] - 112s 1s/step - loss: 0.5011 - acc: 0.7490 - val_loss: 0.5578 - val_acc: 0.7140\n",
      "Epoch 8/30\n",
      "100/100 [==============================] - 122s 1s/step - loss: 0.4748 - acc: 0.7860 - val_loss: 0.7254 - val_acc: 0.6260\n",
      "Epoch 9/30\n",
      "100/100 [==============================] - 115s 1s/step - loss: 0.4533 - acc: 0.7840 - val_loss: 0.5333 - val_acc: 0.7170\n",
      "Epoch 10/30\n",
      "100/100 [==============================] - 119s 1s/step - loss: 0.4136 - acc: 0.8125 - val_loss: 0.5824 - val_acc: 0.6990\n",
      "Epoch 11/30\n",
      "100/100 [==============================] - 113s 1s/step - loss: 0.3939 - acc: 0.8240 - val_loss: 0.5678 - val_acc: 0.7140\n",
      "Epoch 12/30\n",
      "100/100 [==============================] - 122s 1s/step - loss: 0.3689 - acc: 0.8405 - val_loss: 0.5657 - val_acc: 0.7270\n",
      "Epoch 13/30\n",
      "100/100 [==============================] - 112s 1s/step - loss: 0.3459 - acc: 0.8490 - val_loss: 0.5439 - val_acc: 0.7300\n",
      "Epoch 14/30\n",
      "100/100 [==============================] - 112s 1s/step - loss: 0.3158 - acc: 0.8655 - val_loss: 0.5567 - val_acc: 0.7490\n",
      "Epoch 15/30\n",
      "100/100 [==============================] - 111s 1s/step - loss: 0.2862 - acc: 0.8825 - val_loss: 0.5819 - val_acc: 0.7350\n",
      "Epoch 16/30\n",
      "100/100 [==============================] - 115s 1s/step - loss: 0.2702 - acc: 0.8890 - val_loss: 0.6934 - val_acc: 0.7110\n",
      "Epoch 17/30\n",
      "100/100 [==============================] - 116s 1s/step - loss: 0.2732 - acc: 0.8765 - val_loss: 0.5815 - val_acc: 0.7470\n",
      "Epoch 18/30\n",
      "100/100 [==============================] - 117s 1s/step - loss: 0.2344 - acc: 0.9065 - val_loss: 0.5725 - val_acc: 0.7440\n",
      "Epoch 19/30\n",
      "100/100 [==============================] - 117s 1s/step - loss: 0.2063 - acc: 0.9180 - val_loss: 0.6187 - val_acc: 0.7450\n",
      "Epoch 20/30\n",
      "100/100 [==============================] - 115s 1s/step - loss: 0.1875 - acc: 0.9330 - val_loss: 0.7065 - val_acc: 0.7290\n",
      "Epoch 21/30\n",
      "100/100 [==============================] - 117s 1s/step - loss: 0.1680 - acc: 0.9385 - val_loss: 0.8506 - val_acc: 0.6970\n",
      "Epoch 22/30\n",
      "100/100 [==============================] - 119s 1s/step - loss: 0.1558 - acc: 0.9460 - val_loss: 0.8020 - val_acc: 0.7250\n",
      "Epoch 23/30\n",
      "100/100 [==============================] - 115s 1s/step - loss: 0.1284 - acc: 0.9550 - val_loss: 0.7947 - val_acc: 0.7140\n",
      "Epoch 24/30\n",
      "100/100 [==============================] - 115s 1s/step - loss: 0.1152 - acc: 0.9645 - val_loss: 0.7340 - val_acc: 0.7420\n",
      "Epoch 25/30\n",
      "100/100 [==============================] - 115s 1s/step - loss: 0.0966 - acc: 0.9700 - val_loss: 0.7587 - val_acc: 0.7360\n",
      "Epoch 26/30\n",
      "100/100 [==============================] - 117s 1s/step - loss: 0.0940 - acc: 0.9715 - val_loss: 0.7833 - val_acc: 0.7460\n",
      "Epoch 27/30\n",
      "100/100 [==============================] - 116s 1s/step - loss: 0.0825 - acc: 0.9726 - val_loss: 0.8009 - val_acc: 0.7360\n",
      "Epoch 28/30\n",
      "100/100 [==============================] - 128s 1s/step - loss: 0.0681 - acc: 0.9800 - val_loss: 0.8915 - val_acc: 0.7290\n",
      "Epoch 29/30\n",
      "100/100 [==============================] - 118s 1s/step - loss: 0.0602 - acc: 0.9825 - val_loss: 0.8886 - val_acc: 0.7300\n",
      "Epoch 30/30\n",
      "100/100 [==============================] - 118s 1s/step - loss: 0.0478 - acc: 0.9865 - val_loss: 0.9513 - val_acc: 0.7250\n"
     ]
    }
   ],
   "source": [
    "history = model.fit_generator(train_generator,\n",
    "                             steps_per_epoch = 100,\n",
    "                             epochs = 30,\n",
    "                             validation_data = validation_generator,\n",
    "                             validation_steps = 50)"
   ]
  },
  {
   "cell_type": "code",
   "execution_count": 27,
   "metadata": {
    "collapsed": true
   },
   "outputs": [],
   "source": [
    "model.save('cats_and_dogs_small_1.h5')"
   ]
  },
  {
   "cell_type": "markdown",
   "metadata": {},
   "source": [
    "## plotting training and validation accuracy\n"
   ]
  },
  {
   "cell_type": "code",
   "execution_count": 30,
   "metadata": {},
   "outputs": [
    {
     "data": {
      "text/plain": [
       "<matplotlib.legend.Legend at 0x23700fa4ef0>"
      ]
     },
     "execution_count": 30,
     "metadata": {},
     "output_type": "execute_result"
    },
    {
     "data": {
      "image/png": "[encoded data removed]",
      "text/plain": [
       "<Figure size 576x396 with 1 Axes>"
      ]
     },
     "metadata": {},
     "output_type": "display_data"
    },
    {
     "data": {
      "image/png": "[encoded data removed]",
      "text/plain": [
       "<Figure size 576x396 with 1 Axes>"
      ]
     },
     "metadata": {},
     "output_type": "display_data"
    }
   ],
   "source": [
    "history_dict = history.history\n",
    "acc = history_dict['acc']\n",
    "val_acc = history_dict['val_acc']\n",
    "loss = history_dict['loss']\n",
    "val_loss = history_dict['val_loss']\n",
    "\n",
    "epochs = range(1, len(acc) + 1)\n",
    "\n",
    "plt.plot(epochs, acc, 'bo', label = 'Training Accuracy')\n",
    "plt.plot(epochs, val_acc, 'b', label = 'Validation Accuracy')\n",
    "plt.title(\"training and validation accuracy\")\n",
    "plt.legend()\n",
    "\n",
    "plt.figure()\n",
    "\n",
    "plt.plot(epochs, loss, 'bo', label = 'Training loss')\n",
    "plt.plot(epochs, val_loss, 'b', label = 'Validation loss')\n",
    "plt.title(\"training and validation loss\")\n",
    "plt.legend()"
   ]
  },
  {
   "cell_type": "markdown",
   "metadata": {},
   "source": [
    "The model is clearly overfitting (see disconnect between training acc and validation acc. Let's fix this by artificially increasing the training set through generation of new images."
   ]
  },
  {
   "cell_type": "markdown",
   "metadata": {},
   "source": [
    "## Overfit reduction\n",
    "### Data Augmentation & Dropout layer\n",
    "\n",
    "Let's augment some of the train images to get a bigger set through ImageDataGenerator"
   ]
  },
  {
   "cell_type": "code",
   "execution_count": 4,
   "metadata": {
    "scrolled": true
   },
   "outputs": [
    {
     "name": "stdout",
     "output_type": "stream",
     "text": [
      "Found 2002 images belonging to 2 classes.\n",
      "Found 1000 images belonging to 2 classes.\n"
     ]
    }
   ],
   "source": [
    "from keras.preprocessing.image import ImageDataGenerator\n",
    "\n",
    "#augment the train set to create more instances to train on\n",
    "train_datagen = ImageDataGenerator(rescale = 1./255,\n",
    "                                  rotation_range = 40,\n",
    "                                  width_shift_range = 0.2,\n",
    "                                  height_shift_range = 0.2,\n",
    "                                  shear_range = 0.2,\n",
    "                                  zoom_range = 0.2,\n",
    "                                  horizontal_flip = True)\n",
    "\n",
    "#dont augment the validation set!\n",
    "test_datagen = ImageDataGenerator(rescale = 1./255)\n",
    "\n",
    "train_generator = train_datagen.flow_from_directory(train_dir,\n",
    "                                                   target_size=(150,150),\n",
    "                                                   batch_size = 20,\n",
    "                                                   class_mode = 'binary')\n",
    "\n",
    "validation_generator = test_datagen.flow_from_directory(validation_dir,\n",
    "                                                       target_size=(150,150),\n",
    "                                                       batch_size=20,\n",
    "                                                       class_mode='binary')"
   ]
  },
  {
   "cell_type": "code",
   "execution_count": 5,
   "metadata": {},
   "outputs": [
    {
     "name": "stdout",
     "output_type": "stream",
     "text": [
      "data batch shape: (20, 150, 150, 3)\n",
      "labels batch shape: (20,)\n"
     ]
    }
   ],
   "source": [
    "for data_batch, labels_batch in train_generator:\n",
    "    print(\"data batch shape:\", data_batch.shape)\n",
    "    print('labels batch shape:', labels_batch.shape)\n",
    "    break"
   ]
  },
  {
   "cell_type": "markdown",
   "metadata": {},
   "source": [
    "Set new model with droplout layer"
   ]
  },
  {
   "cell_type": "code",
   "execution_count": 6,
   "metadata": {
    "collapsed": true
   },
   "outputs": [],
   "source": [
    "from keras import layers, models\n",
    "\n",
    "model = models.Sequential()\n",
    "\n",
    "model.add(layers.Conv2D(32, (3,3), activation = 'relu', \n",
    "                 input_shape = (150, 150, 3)))\n",
    "model.add(layers.MaxPooling2D((2,2)))\n",
    "model.add(layers.Conv2D(64, (3,3), activation = 'relu'))\n",
    "model.add(layers.MaxPooling2D((2,2)))\n",
    "model.add(layers.Conv2D(128, (3,3), activation = 'relu'))\n",
    "model.add(layers.MaxPooling2D((2,2)))\n",
    "model.add(layers.Conv2D(128, (3,3), activation = 'relu'))\n",
    "model.add(layers.MaxPooling2D((2,2)))\n",
    "model.add(layers.Flatten())\n",
    "model.add(layers.Dropout(0.5))\n",
    "model.add(layers.Dense(512, activation = 'relu'))\n",
    "model.add(layers.Dense(1, activation = 'sigmoid'))\n",
    "\n",
    "#compiling\n",
    "from keras import optimizers\n",
    "\n",
    "model.compile(loss='binary_crossentropy', \n",
    "              optimizer = optimizers.RMSprop(lr=1e-4),\n",
    "             metrics = ['acc'])"
   ]
  },
  {
   "cell_type": "markdown",
   "metadata": {},
   "source": [
    "Train new model"
   ]
  },
  {
   "cell_type": "code",
   "execution_count": 7,
   "metadata": {
    "scrolled": true
   },
   "outputs": [
    {
     "name": "stdout",
     "output_type": "stream",
     "text": [
      "Epoch 1/100\n",
      "100/100 [==============================] - 116s 1s/step - loss: 0.6940 - acc: 0.5050 - val_loss: 0.7113 - val_acc: 0.5000\n",
      "Epoch 2/100\n",
      "100/100 [==============================] - 119s 1s/step - loss: 0.6878 - acc: 0.5535 - val_loss: 0.6977 - val_acc: 0.5030\n",
      "Epoch 3/100\n",
      "100/100 [==============================] - 117s 1s/step - loss: 0.6792 - acc: 0.5770 - val_loss: 0.6535 - val_acc: 0.6270\n",
      "Epoch 4/100\n",
      "100/100 [==============================] - 117s 1s/step - loss: 0.6665 - acc: 0.5995 - val_loss: 0.6403 - val_acc: 0.6400\n",
      "Epoch 5/100\n",
      "100/100 [==============================] - 118s 1s/step - loss: 0.6570 - acc: 0.6230 - val_loss: 0.6188 - val_acc: 0.6520\n",
      "Epoch 6/100\n",
      "100/100 [==============================] - 116s 1s/step - loss: 0.6392 - acc: 0.6355 - val_loss: 0.6117 - val_acc: 0.6630\n",
      "Epoch 7/100\n",
      "100/100 [==============================] - 116s 1s/step - loss: 0.6387 - acc: 0.6410 - val_loss: 0.5949 - val_acc: 0.6830\n",
      "Epoch 8/100\n",
      "100/100 [==============================] - 115s 1s/step - loss: 0.6218 - acc: 0.6496 - val_loss: 0.5854 - val_acc: 0.6730\n",
      "Epoch 9/100\n",
      "100/100 [==============================] - 116s 1s/step - loss: 0.6076 - acc: 0.6640 - val_loss: 0.5826 - val_acc: 0.6830\n",
      "Epoch 10/100\n",
      "100/100 [==============================] - 117s 1s/step - loss: 0.6078 - acc: 0.6705 - val_loss: 0.5565 - val_acc: 0.6990\n",
      "Epoch 11/100\n",
      "100/100 [==============================] - 117s 1s/step - loss: 0.6119 - acc: 0.6600 - val_loss: 0.5806 - val_acc: 0.6780\n",
      "Epoch 12/100\n",
      "100/100 [==============================] - 117s 1s/step - loss: 0.5964 - acc: 0.6785 - val_loss: 0.5465 - val_acc: 0.7090\n",
      "Epoch 13/100\n",
      "100/100 [==============================] - 117s 1s/step - loss: 0.5736 - acc: 0.6895 - val_loss: 0.5541 - val_acc: 0.6970\n",
      "Epoch 14/100\n",
      "100/100 [==============================] - 116s 1s/step - loss: 0.5724 - acc: 0.7065 - val_loss: 0.5531 - val_acc: 0.7020\n",
      "Epoch 15/100\n",
      "100/100 [==============================] - 115s 1s/step - loss: 0.5840 - acc: 0.6846 - val_loss: 0.6152 - val_acc: 0.6740\n",
      "Epoch 16/100\n",
      "100/100 [==============================] - 115s 1s/step - loss: 0.5636 - acc: 0.7040 - val_loss: 0.5491 - val_acc: 0.7030\n",
      "Epoch 17/100\n",
      "100/100 [==============================] - 115s 1s/step - loss: 0.5802 - acc: 0.6891 - val_loss: 0.5691 - val_acc: 0.6960\n",
      "Epoch 18/100\n",
      "100/100 [==============================] - 115s 1s/step - loss: 0.5609 - acc: 0.7105 - val_loss: 0.5085 - val_acc: 0.7400\n",
      "Epoch 19/100\n",
      "100/100 [==============================] - 116s 1s/step - loss: 0.5412 - acc: 0.7215 - val_loss: 0.5143 - val_acc: 0.7340\n",
      "Epoch 20/100\n",
      "100/100 [==============================] - 114s 1s/step - loss: 0.5602 - acc: 0.7010 - val_loss: 0.5033 - val_acc: 0.7460\n",
      "Epoch 21/100\n",
      "100/100 [==============================] - 116s 1s/step - loss: 0.5446 - acc: 0.7250 - val_loss: 0.5556 - val_acc: 0.7140\n",
      "Epoch 22/100\n",
      "100/100 [==============================] - 116s 1s/step - loss: 0.5481 - acc: 0.7180 - val_loss: 0.5082 - val_acc: 0.7510\n",
      "Epoch 23/100\n",
      "100/100 [==============================] - 115s 1s/step - loss: 0.5342 - acc: 0.7345 - val_loss: 0.5486 - val_acc: 0.7170\n",
      "Epoch 24/100\n",
      "100/100 [==============================] - 115s 1s/step - loss: 0.5381 - acc: 0.7375 - val_loss: 0.5032 - val_acc: 0.7410\n",
      "Epoch 25/100\n",
      "100/100 [==============================] - 117s 1s/step - loss: 0.5330 - acc: 0.7345 - val_loss: 0.5332 - val_acc: 0.7380\n",
      "Epoch 26/100\n",
      "100/100 [==============================] - 117s 1s/step - loss: 0.5326 - acc: 0.7250 - val_loss: 0.5067 - val_acc: 0.7370\n",
      "Epoch 27/100\n",
      "100/100 [==============================] - 118s 1s/step - loss: 0.5212 - acc: 0.7375 - val_loss: 0.5432 - val_acc: 0.7190\n",
      "Epoch 28/100\n",
      "100/100 [==============================] - 118s 1s/step - loss: 0.5326 - acc: 0.7310 - val_loss: 0.5916 - val_acc: 0.7030\n",
      "Epoch 29/100\n",
      "100/100 [==============================] - 115s 1s/step - loss: 0.5286 - acc: 0.7430 - val_loss: 0.5170 - val_acc: 0.7250\n",
      "Epoch 30/100\n",
      "100/100 [==============================] - 117s 1s/step - loss: 0.5281 - acc: 0.7395 - val_loss: 0.4883 - val_acc: 0.7580\n",
      "Epoch 31/100\n",
      "100/100 [==============================] - 120s 1s/step - loss: 0.5122 - acc: 0.7555 - val_loss: 0.5166 - val_acc: 0.7460\n",
      "Epoch 32/100\n",
      "100/100 [==============================] - 118s 1s/step - loss: 0.5165 - acc: 0.7540 - val_loss: 0.4821 - val_acc: 0.7630\n",
      "Epoch 33/100\n",
      "100/100 [==============================] - 119s 1s/step - loss: 0.5138 - acc: 0.7465 - val_loss: 0.4835 - val_acc: 0.7640\n",
      "Epoch 34/100\n",
      "100/100 [==============================] - 119s 1s/step - loss: 0.4941 - acc: 0.7625 - val_loss: 0.5002 - val_acc: 0.7630\n",
      "Epoch 35/100\n",
      "100/100 [==============================] - 117s 1s/step - loss: 0.4911 - acc: 0.7740 - val_loss: 0.4692 - val_acc: 0.7730\n",
      "Epoch 36/100\n",
      "100/100 [==============================] - 116s 1s/step - loss: 0.5121 - acc: 0.7425 - val_loss: 0.4710 - val_acc: 0.7740\n",
      "Epoch 37/100\n",
      "100/100 [==============================] - 117s 1s/step - loss: 0.5034 - acc: 0.7625 - val_loss: 0.4775 - val_acc: 0.7670\n",
      "Epoch 38/100\n",
      "100/100 [==============================] - 115s 1s/step - loss: 0.4918 - acc: 0.7590 - val_loss: 0.4976 - val_acc: 0.7540\n",
      "Epoch 39/100\n",
      "100/100 [==============================] - 116s 1s/step - loss: 0.4784 - acc: 0.7615 - val_loss: 0.4681 - val_acc: 0.7730\n",
      "Epoch 40/100\n",
      "100/100 [==============================] - 117s 1s/step - loss: 0.4876 - acc: 0.7730 - val_loss: 0.5269 - val_acc: 0.7420\n",
      "Epoch 41/100\n",
      "100/100 [==============================] - 117s 1s/step - loss: 0.5047 - acc: 0.7595 - val_loss: 0.5230 - val_acc: 0.7280\n",
      "Epoch 42/100\n",
      "100/100 [==============================] - 115s 1s/step - loss: 0.4884 - acc: 0.7580 - val_loss: 0.5165 - val_acc: 0.7440\n",
      "Epoch 43/100\n",
      "100/100 [==============================] - 115s 1s/step - loss: 0.4755 - acc: 0.7835 - val_loss: 0.4865 - val_acc: 0.7730\n",
      "Epoch 44/100\n",
      "100/100 [==============================] - 116s 1s/step - loss: 0.4746 - acc: 0.7720 - val_loss: 0.4947 - val_acc: 0.7670\n",
      "Epoch 45/100\n",
      "100/100 [==============================] - 117s 1s/step - loss: 0.4865 - acc: 0.7640 - val_loss: 0.5237 - val_acc: 0.7470\n",
      "Epoch 46/100\n",
      "100/100 [==============================] - 115s 1s/step - loss: 0.4707 - acc: 0.7775 - val_loss: 0.4724 - val_acc: 0.7640\n",
      "Epoch 47/100\n",
      "100/100 [==============================] - 116s 1s/step - loss: 0.4731 - acc: 0.7825 - val_loss: 0.4863 - val_acc: 0.7630\n",
      "Epoch 48/100\n",
      "100/100 [==============================] - 116s 1s/step - loss: 0.4804 - acc: 0.7735 - val_loss: 0.4475 - val_acc: 0.7930\n",
      "Epoch 49/100\n",
      "100/100 [==============================] - 117s 1s/step - loss: 0.4747 - acc: 0.7610 - val_loss: 0.4489 - val_acc: 0.7860\n",
      "Epoch 50/100\n",
      "100/100 [==============================] - 116s 1s/step - loss: 0.4616 - acc: 0.7880 - val_loss: 0.5647 - val_acc: 0.7390\n",
      "Epoch 51/100\n",
      "100/100 [==============================] - 116s 1s/step - loss: 0.4880 - acc: 0.7616 - val_loss: 0.4559 - val_acc: 0.7820\n",
      "Epoch 52/100\n",
      "100/100 [==============================] - 116s 1s/step - loss: 0.4559 - acc: 0.7825 - val_loss: 0.4747 - val_acc: 0.7760\n",
      "Epoch 53/100\n",
      "100/100 [==============================] - 116s 1s/step - loss: 0.4673 - acc: 0.7745 - val_loss: 0.4536 - val_acc: 0.7890\n",
      "Epoch 54/100\n",
      "100/100 [==============================] - 117s 1s/step - loss: 0.4570 - acc: 0.7895 - val_loss: 0.4517 - val_acc: 0.7880\n",
      "Epoch 55/100\n",
      "100/100 [==============================] - 114s 1s/step - loss: 0.4603 - acc: 0.7850 - val_loss: 0.7685 - val_acc: 0.6510\n",
      "Epoch 56/100\n",
      "100/100 [==============================] - 116s 1s/step - loss: 0.4660 - acc: 0.7735 - val_loss: 0.4893 - val_acc: 0.7710\n",
      "Epoch 57/100\n",
      "100/100 [==============================] - 182s 2s/step - loss: 0.4538 - acc: 0.7805 - val_loss: 0.4805 - val_acc: 0.7850\n",
      "Epoch 58/100\n",
      "100/100 [==============================] - 134s 1s/step - loss: 0.4435 - acc: 0.7990 - val_loss: 0.4453 - val_acc: 0.7800\n",
      "Epoch 59/100\n",
      "100/100 [==============================] - 121s 1s/step - loss: 0.4495 - acc: 0.7870 - val_loss: 0.4832 - val_acc: 0.7760\n",
      "Epoch 60/100\n",
      "100/100 [==============================] - 120s 1s/step - loss: 0.4664 - acc: 0.7870 - val_loss: 0.4538 - val_acc: 0.7820\n",
      "Epoch 61/100\n",
      "100/100 [==============================] - 130s 1s/step - loss: 0.4388 - acc: 0.8030 - val_loss: 0.4601 - val_acc: 0.7940\n"
     ]
    },
    {
     "name": "stdout",
     "output_type": "stream",
     "text": [
      "Epoch 62/100\n",
      "100/100 [==============================] - 137s 1s/step - loss: 0.4540 - acc: 0.7880 - val_loss: 0.5141 - val_acc: 0.7580\n",
      "Epoch 63/100\n",
      "100/100 [==============================] - 128s 1s/step - loss: 0.4494 - acc: 0.7860 - val_loss: 0.4671 - val_acc: 0.7710\n",
      "Epoch 64/100\n",
      "100/100 [==============================] - 127s 1s/step - loss: 0.4420 - acc: 0.7935 - val_loss: 0.5330 - val_acc: 0.7600\n",
      "Epoch 65/100\n",
      "100/100 [==============================] - 140s 1s/step - loss: 0.4487 - acc: 0.7880 - val_loss: 0.4378 - val_acc: 0.7920\n",
      "Epoch 66/100\n",
      "100/100 [==============================] - 123s 1s/step - loss: 0.4271 - acc: 0.8010 - val_loss: 0.4336 - val_acc: 0.8090\n",
      "Epoch 67/100\n",
      "100/100 [==============================] - 121s 1s/step - loss: 0.4471 - acc: 0.7875 - val_loss: 0.4614 - val_acc: 0.7920\n",
      "Epoch 68/100\n",
      "100/100 [==============================] - 127s 1s/step - loss: 0.4446 - acc: 0.7975 - val_loss: 0.4436 - val_acc: 0.7920\n",
      "Epoch 69/100\n",
      "100/100 [==============================] - 135s 1s/step - loss: 0.4440 - acc: 0.7995 - val_loss: 0.4413 - val_acc: 0.7810\n",
      "Epoch 70/100\n",
      "100/100 [==============================] - 127s 1s/step - loss: 0.4377 - acc: 0.8010 - val_loss: 0.4840 - val_acc: 0.7880\n",
      "Epoch 71/100\n",
      "100/100 [==============================] - 127s 1s/step - loss: 0.4319 - acc: 0.8000 - val_loss: 0.5731 - val_acc: 0.7450\n",
      "Epoch 72/100\n",
      "100/100 [==============================] - 128s 1s/step - loss: 0.4308 - acc: 0.7915 - val_loss: 0.4607 - val_acc: 0.7860\n",
      "Epoch 73/100\n",
      "100/100 [==============================] - 127s 1s/step - loss: 0.4320 - acc: 0.7890 - val_loss: 0.4532 - val_acc: 0.7930\n",
      "Epoch 74/100\n",
      "100/100 [==============================] - 127s 1s/step - loss: 0.4435 - acc: 0.8030 - val_loss: 0.5202 - val_acc: 0.7690\n",
      "Epoch 75/100\n",
      "100/100 [==============================] - 127s 1s/step - loss: 0.4227 - acc: 0.7955 - val_loss: 0.4375 - val_acc: 0.7990\n",
      "Epoch 76/100\n",
      "100/100 [==============================] - 126s 1s/step - loss: 0.4267 - acc: 0.7995 - val_loss: 0.4426 - val_acc: 0.7950\n",
      "Epoch 77/100\n",
      "100/100 [==============================] - 126s 1s/step - loss: 0.4173 - acc: 0.8220 - val_loss: 0.4777 - val_acc: 0.7670\n",
      "Epoch 78/100\n",
      "100/100 [==============================] - 124s 1s/step - loss: 0.4257 - acc: 0.8110 - val_loss: 0.4587 - val_acc: 0.7890\n",
      "Epoch 79/100\n",
      "100/100 [==============================] - 123s 1s/step - loss: 0.4344 - acc: 0.8046 - val_loss: 0.6268 - val_acc: 0.7420\n",
      "Epoch 80/100\n",
      "100/100 [==============================] - 203s 2s/step - loss: 0.4358 - acc: 0.8010 - val_loss: 0.4528 - val_acc: 0.8060\n",
      "Epoch 81/100\n",
      "100/100 [==============================] - 148s 1s/step - loss: 0.4135 - acc: 0.8155 - val_loss: 0.4423 - val_acc: 0.8080\n",
      "Epoch 82/100\n",
      "100/100 [==============================] - 141s 1s/step - loss: 0.4273 - acc: 0.8100 - val_loss: 0.4820 - val_acc: 0.7900\n",
      "Epoch 83/100\n",
      "100/100 [==============================] - 136s 1s/step - loss: 0.4240 - acc: 0.8195 - val_loss: 0.4436 - val_acc: 0.7960\n",
      "Epoch 84/100\n",
      "100/100 [==============================] - 129s 1s/step - loss: 0.4148 - acc: 0.8135 - val_loss: 0.4509 - val_acc: 0.8030\n",
      "Epoch 85/100\n",
      "100/100 [==============================] - 141s 1s/step - loss: 0.4256 - acc: 0.7985 - val_loss: 0.4264 - val_acc: 0.8070\n",
      "Epoch 86/100\n",
      "100/100 [==============================] - 135s 1s/step - loss: 0.4107 - acc: 0.8065 - val_loss: 0.4700 - val_acc: 0.7880\n",
      "Epoch 87/100\n",
      "100/100 [==============================] - 121s 1s/step - loss: 0.4120 - acc: 0.8160 - val_loss: 0.4743 - val_acc: 0.7890\n",
      "Epoch 88/100\n",
      "100/100 [==============================] - 126s 1s/step - loss: 0.4085 - acc: 0.8185 - val_loss: 0.4732 - val_acc: 0.7960\n",
      "Epoch 89/100\n",
      "100/100 [==============================] - 129s 1s/step - loss: 0.3942 - acc: 0.8265 - val_loss: 0.4311 - val_acc: 0.8090\n",
      "Epoch 90/100\n",
      "100/100 [==============================] - 129s 1s/step - loss: 0.4125 - acc: 0.8070 - val_loss: 0.4929 - val_acc: 0.7940\n",
      "Epoch 91/100\n",
      "100/100 [==============================] - 131s 1s/step - loss: 0.4180 - acc: 0.8030 - val_loss: 0.4466 - val_acc: 0.8050\n",
      "Epoch 92/100\n",
      "100/100 [==============================] - 119s 1s/step - loss: 0.4102 - acc: 0.8230 - val_loss: 0.4664 - val_acc: 0.7890\n",
      "Epoch 93/100\n",
      "100/100 [==============================] - 117s 1s/step - loss: 0.3897 - acc: 0.8270 - val_loss: 0.4376 - val_acc: 0.8180\n",
      "Epoch 94/100\n",
      "100/100 [==============================] - 128s 1s/step - loss: 0.4023 - acc: 0.8120 - val_loss: 0.4670 - val_acc: 0.8060\n",
      "Epoch 95/100\n",
      "100/100 [==============================] - 136s 1s/step - loss: 0.4160 - acc: 0.8021 - val_loss: 0.4746 - val_acc: 0.8090\n",
      "Epoch 96/100\n",
      "100/100 [==============================] - 132s 1s/step - loss: 0.3973 - acc: 0.8235 - val_loss: 0.4919 - val_acc: 0.7860\n",
      "Epoch 97/100\n",
      "100/100 [==============================] - 155s 2s/step - loss: 0.3980 - acc: 0.8095 - val_loss: 0.4566 - val_acc: 0.8050\n",
      "Epoch 98/100\n",
      "100/100 [==============================] - 171s 2s/step - loss: 0.3890 - acc: 0.8240 - val_loss: 0.4751 - val_acc: 0.7810\n",
      "Epoch 99/100\n",
      "100/100 [==============================] - 171s 2s/step - loss: 0.3926 - acc: 0.8255 - val_loss: 0.4441 - val_acc: 0.8130\n",
      "Epoch 100/100\n",
      "100/100 [==============================] - 171s 2s/step - loss: 0.4063 - acc: 0.8110 - val_loss: 0.4881 - val_acc: 0.7850\n"
     ]
    }
   ],
   "source": [
    "history = model.fit_generator(train_generator,\n",
    "                             steps_per_epoch = 100,\n",
    "                             epochs = 100,\n",
    "                             validation_data = validation_generator,\n",
    "                             validation_steps = 50)"
   ]
  },
  {
   "cell_type": "code",
   "execution_count": 8,
   "metadata": {
    "collapsed": true
   },
   "outputs": [],
   "source": [
    "model.save('cats_and_dogs_small_2.h5')"
   ]
  },
  {
   "cell_type": "code",
   "execution_count": 18,
   "metadata": {},
   "outputs": [
    {
     "name": "stdout",
     "output_type": "stream",
     "text": [
      "highest accuracy obtained: 0.8294651876424565\n",
      "epoch of highest accuracy: 88\n"
     ]
    }
   ],
   "source": [
    "print(\"highest accuracy obtained:\", max(history.history['acc']))\n",
    "print(\"epoch of highest accuracy:\", np.argmax(history.history['acc']))"
   ]
  },
  {
   "cell_type": "markdown",
   "metadata": {},
   "source": [
    "New plots"
   ]
  },
  {
   "cell_type": "code",
   "execution_count": 9,
   "metadata": {
    "scrolled": false
   },
   "outputs": [
    {
     "data": {
      "text/plain": [
       "<matplotlib.legend.Legend at 0x1d72f400320>"
      ]
     },
     "execution_count": 9,
     "metadata": {},
     "output_type": "execute_result"
    },
    {
     "data": {
      "image/png": "[encoded data removed]",
      "text/plain": [
       "<Figure size 576x396 with 1 Axes>"
      ]
     },
     "metadata": {},
     "output_type": "display_data"
    },
    {
     "data": {
      "image/png": "[encoded data removed]",
      "text/plain": [
       "<Figure size 576x396 with 1 Axes>"
      ]
     },
     "metadata": {},
     "output_type": "display_data"
    }
   ],
   "source": [
    "history_dict = history.history\n",
    "acc = history_dict['acc']\n",
    "val_acc = history_dict['val_acc']\n",
    "loss = history_dict['loss']\n",
    "val_loss = history_dict['val_loss']\n",
    "\n",
    "epochs = range(1, len(acc) + 1)\n",
    "\n",
    "plt.plot(epochs, acc, 'bo', label = 'Training Accuracy')\n",
    "plt.plot(epochs, val_acc, 'b', label = 'Validation Accuracy')\n",
    "plt.title(\"training and validation accuracy\")\n",
    "plt.legend()\n",
    "\n",
    "plt.figure()\n",
    "\n",
    "plt.plot(epochs, loss, 'bo', label = 'Training loss')\n",
    "plt.plot(epochs, val_loss, 'b', label = 'Validation loss')\n",
    "plt.title(\"training and validation loss\")\n",
    "plt.legend()"
   ]
  },
  {
   "cell_type": "markdown",
   "metadata": {},
   "source": [
    "## Pre-trained networks\n",
    "### VGG16 covnet pretrained"
   ]
  },
  {
   "cell_type": "code",
   "execution_count": 20,
   "metadata": {
    "scrolled": true
   },
   "outputs": [
    {
     "name": "stdout",
     "output_type": "stream",
     "text": [
      "Downloading data from https://github.com/fchollet/deep-learning-models/releases/download/v0.1/vgg16_weights_tf_dim_ordering_tf_kernels_notop.h5\n",
      "58892288/58889256 [==============================] - 55s 1us/step\n",
      "_________________________________________________________________\n",
      "Layer (type)                 Output Shape              Param #   \n",
      "=================================================================\n",
      "input_1 (InputLayer)         (None, 150, 150, 3)       0         \n",
      "_________________________________________________________________\n",
      "block1_conv1 (Conv2D)        (None, 150, 150, 64)      1792      \n",
      "_________________________________________________________________\n",
      "block1_conv2 (Conv2D)        (None, 150, 150, 64)      36928     \n",
      "_________________________________________________________________\n",
      "block1_pool (MaxPooling2D)   (None, 75, 75, 64)        0         \n",
      "_________________________________________________________________\n",
      "block2_conv1 (Conv2D)        (None, 75, 75, 128)       73856     \n",
      "_________________________________________________________________\n",
      "block2_conv2 (Conv2D)        (None, 75, 75, 128)       147584    \n",
      "_________________________________________________________________\n",
      "block2_pool (MaxPooling2D)   (None, 37, 37, 128)       0         \n",
      "_________________________________________________________________\n",
      "block3_conv1 (Conv2D)        (None, 37, 37, 256)       295168    \n",
      "_________________________________________________________________\n",
      "block3_conv2 (Conv2D)        (None, 37, 37, 256)       590080    \n",
      "_________________________________________________________________\n",
      "block3_conv3 (Conv2D)        (None, 37, 37, 256)       590080    \n",
      "_________________________________________________________________\n",
      "block3_pool (MaxPooling2D)   (None, 18, 18, 256)       0         \n",
      "_________________________________________________________________\n",
      "block4_conv1 (Conv2D)        (None, 18, 18, 512)       1180160   \n",
      "_________________________________________________________________\n",
      "block4_conv2 (Conv2D)        (None, 18, 18, 512)       2359808   \n",
      "_________________________________________________________________\n",
      "block4_conv3 (Conv2D)        (None, 18, 18, 512)       2359808   \n",
      "_________________________________________________________________\n",
      "block4_pool (MaxPooling2D)   (None, 9, 9, 512)         0         \n",
      "_________________________________________________________________\n",
      "block5_conv1 (Conv2D)        (None, 9, 9, 512)         2359808   \n",
      "_________________________________________________________________\n",
      "block5_conv2 (Conv2D)        (None, 9, 9, 512)         2359808   \n",
      "_________________________________________________________________\n",
      "block5_conv3 (Conv2D)        (None, 9, 9, 512)         2359808   \n",
      "_________________________________________________________________\n",
      "block5_pool (MaxPooling2D)   (None, 4, 4, 512)         0         \n",
      "=================================================================\n",
      "Total params: 14,714,688\n",
      "Trainable params: 14,714,688\n",
      "Non-trainable params: 0\n",
      "_________________________________________________________________\n"
     ]
    }
   ],
   "source": [
    "#import\n",
    "from keras.applications import VGG16\n",
    "\n",
    "conv_base = VGG16(weights = 'imagenet',\n",
    "                 include_top = False, #exclude the dense layers at the top!\n",
    "                 input_shape = (150,150,3))\n",
    "\n",
    "\n",
    "conv_base.summary()"
   ]
  },
  {
   "cell_type": "markdown",
   "metadata": {},
   "source": [
    "### two methods:\n",
    "- Run conv_base over images once and feed results into newly setup dense layer network\n",
    "- extend conv_base with dense layers (far more expensive but can use data augmentation)\n",
    "\n",
    "### Method 1: Fast feature extraction without data augmentation"
   ]
  },
  {
   "cell_type": "code",
   "execution_count": 29,
   "metadata": {
    "collapsed": true
   },
   "outputs": [],
   "source": [
    "base_dir = '/Users/Laurens/Documents/IE-BIGDATA/Term 3/Machine Learning III/cats_dogs_small'\n",
    "train_dir = os.path.join(base_dir, 'train')\n",
    "validation_dir = os.path.join(base_dir, 'val')\n",
    "test_dir = os.path.join(base_dir, 'test')\n",
    "\n",
    "datagen = ImageDataGenerator(rescale = 1./255)\n",
    "batch_size = 20\n",
    "\n",
    "def extract_features(directory, sample_count):\n",
    "    #first setup an empty numpy array with size of input (amount of pics),\n",
    "    #and second part the size of the output block in the conv_base\n",
    "    features = np.zeros(shape=(sample_count, 4, 4, 512))\n",
    "    #setup another numpy array with size of input (amount of pics) for labels\n",
    "    labels = np.zeros(shape=(sample_count))\n",
    "    #setup the generator to get images from dir and setup batch size etc\n",
    "    #Takes the path to a directory, and generates batches of augmented/normalized data.\n",
    "    generator = datagen.flow_from_directory(directory,\n",
    "                                           target_size=(150,150),\n",
    "                                           batch_size = batch_size,\n",
    "                                            class_mode = 'binary')\n",
    "    \n",
    "    #setup a counter and a loop to go through all the pictures in chunks\n",
    "    \n",
    "    i=0\n",
    "    for inputs_batch, labels_batch in generator:\n",
    "        #extract the features from the pre-trained model from the first batch\n",
    "        features_batch = conv_base.predict(inputs_batch)\n",
    "        #get first batch and save them as features with correct labels\n",
    "        features[i * batch_size : (i +1) * batch_size] = features_batch\n",
    "        labels[i * batch_size : (i + 1) * batch_size] = labels_batch\n",
    "        #add one to iterator\n",
    "        i += 1\n",
    "        \n",
    "        #add verbosity\n",
    "        if i % 10 == 0:\n",
    "            print(\"Progress so far:\", i)\n",
    "        \n",
    "        #make sure to setup a break argument since otherwise this keeps going\n",
    "        #since we are iterating over a generator\n",
    "        if i * batch_size >= sample_count:\n",
    "            break\n",
    "    \n",
    "    return features, labels"
   ]
  },
  {
   "cell_type": "code",
   "execution_count": 30,
   "metadata": {
    "scrolled": true
   },
   "outputs": [
    {
     "name": "stdout",
     "output_type": "stream",
     "text": [
      "Found 2000 images belonging to 2 classes.\n",
      "Progress so far: 10\n",
      "Progress so far: 20\n",
      "Progress so far: 30\n",
      "Progress so far: 40\n",
      "Progress so far: 50\n",
      "Progress so far: 60\n",
      "Progress so far: 70\n",
      "Progress so far: 80\n",
      "Progress so far: 90\n",
      "Progress so far: 100\n",
      "Found 1000 images belonging to 2 classes.\n",
      "Progress so far: 10\n",
      "Progress so far: 20\n",
      "Progress so far: 30\n",
      "Progress so far: 40\n",
      "Progress so far: 50\n",
      "Found 1000 images belonging to 2 classes.\n",
      "Progress so far: 10\n",
      "Progress so far: 20\n",
      "Progress so far: 30\n",
      "Progress so far: 40\n",
      "Progress so far: 50\n"
     ]
    }
   ],
   "source": [
    "#Use the function to get train, test and val sets\n",
    "\n",
    "train_features, train_labels = extract_features(train_dir, 2000)\n",
    "\n",
    "val_features, val_labels = extract_features(validation_dir, 1000)\n",
    "\n",
    "test_features, test_labels = extract_features(test_dir, 1000)"
   ]
  },
  {
   "cell_type": "code",
   "execution_count": 31,
   "metadata": {
    "collapsed": true
   },
   "outputs": [],
   "source": [
    "#the shape of the extracted features is (sample_count, 4, 4, 512) so\n",
    "#we feed this to a dense layers after flattening first to (samples, 8192)\n",
    "\n",
    "train_features = np.reshape(train_features, (2000, 4*4*512))\n",
    "val_features = np.reshape(val_features, (1000, 4*4*512))\n",
    "test_featuers = np.reshape(test_features, (1000, 4*4*512))"
   ]
  },
  {
   "cell_type": "code",
   "execution_count": 33,
   "metadata": {
    "scrolled": true
   },
   "outputs": [
    {
     "name": "stdout",
     "output_type": "stream",
     "text": [
      "Train on 2000 samples, validate on 1000 samples\n",
      "Epoch 1/30\n",
      "2000/2000 [==============================] - 3s 2ms/step - loss: 0.6008 - acc: 0.6730 - val_loss: 0.4504 - val_acc: 0.8410\n",
      "Epoch 2/30\n",
      "2000/2000 [==============================] - 3s 2ms/step - loss: 0.4302 - acc: 0.8100 - val_loss: 0.3639 - val_acc: 0.8580\n",
      "Epoch 3/30\n",
      "2000/2000 [==============================] - 3s 2ms/step - loss: 0.3522 - acc: 0.8530 - val_loss: 0.3196 - val_acc: 0.8740\n",
      "Epoch 4/30\n",
      "2000/2000 [==============================] - 3s 2ms/step - loss: 0.3114 - acc: 0.8700 - val_loss: 0.2998 - val_acc: 0.8780\n",
      "Epoch 5/30\n",
      "2000/2000 [==============================] - 4s 2ms/step - loss: 0.2812 - acc: 0.8945 - val_loss: 0.2813 - val_acc: 0.8910\n",
      "Epoch 6/30\n",
      "2000/2000 [==============================] - 4s 2ms/step - loss: 0.2657 - acc: 0.8975 - val_loss: 0.2968 - val_acc: 0.8710\n",
      "Epoch 7/30\n",
      "2000/2000 [==============================] - 4s 2ms/step - loss: 0.2534 - acc: 0.9010 - val_loss: 0.2705 - val_acc: 0.8870\n",
      "Epoch 8/30\n",
      "2000/2000 [==============================] - 4s 2ms/step - loss: 0.2350 - acc: 0.9055 - val_loss: 0.2699 - val_acc: 0.8850A: 1s - \n",
      "Epoch 9/30\n",
      "2000/2000 [==============================] - 4s 2ms/step - loss: 0.2218 - acc: 0.9130 - val_loss: 0.2533 - val_acc: 0.8970\n",
      "Epoch 10/30\n",
      "2000/2000 [==============================] - 4s 2ms/step - loss: 0.2031 - acc: 0.9245 - val_loss: 0.2486 - val_acc: 0.9010\n",
      "Epoch 11/30\n",
      "2000/2000 [==============================] - 4s 2ms/step - loss: 0.1981 - acc: 0.9320 - val_loss: 0.2508 - val_acc: 0.9030\n",
      "Epoch 12/30\n",
      "2000/2000 [==============================] - 4s 2ms/step - loss: 0.1845 - acc: 0.9360 - val_loss: 0.2432 - val_acc: 0.9030\n",
      "Epoch 13/30\n",
      "2000/2000 [==============================] - 4s 2ms/step - loss: 0.1768 - acc: 0.9355 - val_loss: 0.2421 - val_acc: 0.9020\n",
      "Epoch 14/30\n",
      "2000/2000 [==============================] - 4s 2ms/step - loss: 0.1736 - acc: 0.9350 - val_loss: 0.2403 - val_acc: 0.9040\n",
      "Epoch 15/30\n",
      "2000/2000 [==============================] - 4s 2ms/step - loss: 0.1613 - acc: 0.9385 - val_loss: 0.2391 - val_acc: 0.9040\n",
      "Epoch 16/30\n",
      "2000/2000 [==============================] - 4s 2ms/step - loss: 0.1557 - acc: 0.9475 - val_loss: 0.2383 - val_acc: 0.9020\n",
      "Epoch 17/30\n",
      "2000/2000 [==============================] - 4s 2ms/step - loss: 0.1480 - acc: 0.9485 - val_loss: 0.2419 - val_acc: 0.9020\n",
      "Epoch 18/30\n",
      "2000/2000 [==============================] - 4s 2ms/step - loss: 0.1404 - acc: 0.9455 - val_loss: 0.2377 - val_acc: 0.9030\n",
      "Epoch 19/30\n",
      "2000/2000 [==============================] - 4s 2ms/step - loss: 0.1375 - acc: 0.9570 - val_loss: 0.2461 - val_acc: 0.9010\n",
      "Epoch 20/30\n",
      "2000/2000 [==============================] - 4s 2ms/step - loss: 0.1381 - acc: 0.9535 - val_loss: 0.2365 - val_acc: 0.9040\n",
      "Epoch 21/30\n",
      "2000/2000 [==============================] - 4s 2ms/step - loss: 0.1259 - acc: 0.9540 - val_loss: 0.2397 - val_acc: 0.8980\n",
      "Epoch 22/30\n",
      "2000/2000 [==============================] - 4s 2ms/step - loss: 0.1210 - acc: 0.9635 - val_loss: 0.2395 - val_acc: 0.9050\n",
      "Epoch 23/30\n",
      "2000/2000 [==============================] - 4s 2ms/step - loss: 0.1207 - acc: 0.9625 - val_loss: 0.2383 - val_acc: 0.9040\n",
      "Epoch 24/30\n",
      "2000/2000 [==============================] - 4s 2ms/step - loss: 0.1171 - acc: 0.9580 - val_loss: 0.2362 - val_acc: 0.9040\n",
      "Epoch 25/30\n",
      "2000/2000 [==============================] - 4s 2ms/step - loss: 0.1042 - acc: 0.9665 - val_loss: 0.2395 - val_acc: 0.9040\n",
      "Epoch 26/30\n",
      "2000/2000 [==============================] - 4s 2ms/step - loss: 0.1087 - acc: 0.9645 - val_loss: 0.2377 - val_acc: 0.9050\n",
      "Epoch 27/30\n",
      "2000/2000 [==============================] - 4s 2ms/step - loss: 0.0982 - acc: 0.9700 - val_loss: 0.2375 - val_acc: 0.9050\n",
      "Epoch 28/30\n",
      "2000/2000 [==============================] - 4s 2ms/step - loss: 0.1009 - acc: 0.9680 - val_loss: 0.2389 - val_acc: 0.9020\n",
      "Epoch 29/30\n",
      "2000/2000 [==============================] - 4s 2ms/step - loss: 0.0945 - acc: 0.9710 - val_loss: 0.2466 - val_acc: 0.9000\n",
      "Epoch 30/30\n",
      "2000/2000 [==============================] - 4s 2ms/step - loss: 0.0903 - acc: 0.9740 - val_loss: 0.2408 - val_acc: 0.9010\n"
     ]
    }
   ],
   "source": [
    "#Setup the new densely layered model with dropout layer\n",
    "model = models.Sequential()\n",
    "model.add(layers.Dense(256, activation = 'relu', input_dim = 4*4*512))\n",
    "model.add(layers.Dropout(0.5))\n",
    "model.add(layers.Dense(1, activation = 'sigmoid'))\n",
    "\n",
    "model.compile(optimizer = optimizers.RMSprop(lr=2e-5),\n",
    "             loss= 'binary_crossentropy',\n",
    "             metrics = ['acc'])\n",
    "\n",
    "history = model.fit(train_features, train_labels,\n",
    "                   epochs = 30,\n",
    "                   batch_size = 20,\n",
    "                   validation_data = (val_features, val_labels))"
   ]
  },
  {
   "cell_type": "markdown",
   "metadata": {},
   "source": [
    "Lets plot accuracy and loss"
   ]
  },
  {
   "cell_type": "code",
   "execution_count": 34,
   "metadata": {
    "scrolled": true
   },
   "outputs": [
    {
     "data": {
      "text/plain": [
       "<matplotlib.legend.Legend at 0x1d7331bca20>"
      ]
     },
     "execution_count": 34,
     "metadata": {},
     "output_type": "execute_result"
    },
    {
     "data": {
      "image/png": "[encoded data removed]",
      "text/plain": [
       "<Figure size 576x396 with 1 Axes>"
      ]
     },
     "metadata": {},
     "output_type": "display_data"
    },
    {
     "data": {
      "image/png": "[encoded data removed]",
      "text/plain": [
       "<Figure size 576x396 with 1 Axes>"
      ]
     },
     "metadata": {},
     "output_type": "display_data"
    }
   ],
   "source": [
    "history_dict = history.history\n",
    "acc = history_dict['acc']\n",
    "val_acc = history_dict['val_acc']\n",
    "loss = history_dict['loss']\n",
    "val_loss = history_dict['val_loss']\n",
    "\n",
    "epochs = range(1, len(acc) + 1)\n",
    "\n",
    "plt.plot(epochs, acc, 'bo', label = 'Training Accuracy')\n",
    "plt.plot(epochs, val_acc, 'b', label = 'Validation Accuracy')\n",
    "plt.title(\"training and validation accuracy\")\n",
    "plt.legend()\n",
    "\n",
    "plt.figure()\n",
    "\n",
    "plt.plot(epochs, loss, 'bo', label = 'Training loss')\n",
    "plt.plot(epochs, val_loss, 'b', label = 'Validation loss')\n",
    "plt.title(\"training and validation loss\")\n",
    "plt.legend()"
   ]
  },
  {
   "cell_type": "markdown",
   "metadata": {},
   "source": [
    "## Method 2: Feature extraction with Data Augmentation\n",
    "\n",
    "### can't do on this pc -- too expensive, need GPU"
   ]
  }
 ],
 "metadata": {
  "kernelspec": {
   "display_name": "Python 3",
   "language": "python",
   "name": "python3"
  },
  "language_info": {
   "codemirror_mode": {
    "name": "ipython",
    "version": 3
   },
   "file_extension": ".py",
   "mimetype": "text/x-python",
   "name": "python",
   "nbconvert_exporter": "python",
   "pygments_lexer": "ipython3",
   "version": "3.6.2"
  }
 },
 "nbformat": 4,
 "nbformat_minor": 2
}
